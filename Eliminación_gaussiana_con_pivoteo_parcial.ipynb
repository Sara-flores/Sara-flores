{
  "nbformat": 4,
  "nbformat_minor": 0,
  "metadata": {
    "colab": {
      "provenance": [],
      "authorship_tag": "ABX9TyPTTl+BOq+FYkr7lTl9xqO3",
      "include_colab_link": true
    },
    "kernelspec": {
      "name": "python3",
      "display_name": "Python 3"
    },
    "language_info": {
      "name": "python"
    }
  },
  "cells": [
    {
      "cell_type": "markdown",
      "metadata": {
        "id": "view-in-github",
        "colab_type": "text"
      },
      "source": [
        "<a href=\"https://colab.research.google.com/github/Sara-flores/Sara-flores/blob/main/Eliminaci%C3%B3n_gaussiana_con_pivoteo_parcial.ipynb\" target=\"_parent\"><img src=\"https://colab.research.google.com/assets/colab-badge.svg\" alt=\"Open In Colab\"/></a>"
      ]
    },
    {
      "cell_type": "code",
      "execution_count": 1,
      "metadata": {
        "id": "ntnEyKbTN7Ma"
      },
      "outputs": [],
      "source": [
        "import numpy as np"
      ]
    },
    {
      "cell_type": "code",
      "source": [
        "\n",
        "\n",
        "# Función para redondear a 4 dígitos significativos\n",
        "def round_four_digits(value):\n",
        "    return round(value, 4)\n",
        "\n",
        "# Función para realizar eliminación gaussiana con pivoteo parcial\n",
        "def gauss_elimination(A):\n",
        "    n = len(A)\n",
        "\n",
        "    # Eliminación hacia adelante con pivoteo parcial\n",
        "    for i in range(n):\n",
        "        # Pivoteo parcial: Encontrar el máximo valor absoluto en la columna i\n",
        "        max_row = i + np.argmax(abs(A[i:n, i]))\n",
        "        if max_row != i:\n",
        "            # Intercambiar filas\n",
        "            A[[i, max_row]] = A[[max_row, i]]\n",
        "\n",
        "        # Redondear el pivote\n",
        "        A[i, i] = round_four_digits(A[i, i])\n",
        "\n",
        "        # Hacer ceros debajo del pivote\n",
        "        for j in range(i + 1, n):\n",
        "            if A[j, i] != 0:\n",
        "                factor = A[j, i] / A[i, i]\n",
        "                A[j, i:] = A[j, i:] - factor * A[i, i:]\n",
        "                # Redondear cada elemento de la fila resultante\n",
        "                A[j] = np.round(A[j], 4)\n",
        "\n",
        "    return A\n",
        "\n",
        "# Función para sustitución hacia atrás\n",
        "def back_substitution(A):\n",
        "    n = len(A)\n",
        "    x = np.zeros(n)\n",
        "\n",
        "    # Sustitución hacia atrás\n",
        "    for i in range(n-1, -1, -1):\n",
        "        x[i] = A[i, -1] / A[i, i]\n",
        "        x[i] = round_four_digits(x[i])  # Redondeo de la solución\n",
        "        for j in range(i-1, -1, -1):\n",
        "            A[j, -1] -= A[j, i] * x[i]\n",
        "            A[j, -1] = round_four_digits(A[j, -1])  # Redondeo de la columna aumentada\n",
        "\n",
        "    return x"
      ],
      "metadata": {
        "id": "7efJO2p9N9w9"
      },
      "execution_count": 2,
      "outputs": []
    },
    {
      "cell_type": "code",
      "source": [
        "# Definir la matriz aumentada del sistema\n",
        "A = np.array([\n",
        "    [0.003000, 59.14, 59.17],\n",
        "    [5.291, -6.130, 46.78]\n",
        "], dtype=float)\n",
        "\n",
        "# Mostrar la matriz antes de la eliminación\n",
        "print(\"Matriz aumentada inicial:\")\n",
        "print(A)\n",
        "\n",
        "# Realizar eliminación gaussiana con pivoteo parcial\n",
        "A = gauss_elimination(A)\n",
        "\n",
        "# Mostrar la matriz después de la eliminación gaussiana\n",
        "print(\"\\nMatriz después de eliminación gaussiana con pivoteo:\")\n",
        "print(A)\n",
        "\n",
        "# Realizar sustitución hacia atrás para encontrar la solución\n",
        "solucion = back_substitution(A)\n",
        "\n",
        "# Mostrar la solución\n",
        "print(\"\\nLa solución es:\")\n",
        "for i in range(len(solucion)):\n",
        "    print(f\"x{i+1} = {solucion[i]}\")\n",
        "\n",
        "# Comparar con la solución exacta\n",
        "solucion_exacta = [10.00, 1.000]\n",
        "print(\"\\nComparación con la solución exacta:\")\n",
        "for i in range(len(solucion)):\n",
        "    print(f\"x{i+1} (calculado) = {solucion[i]}, x{i+1} (exacto) = {solucion_exacta[i]}\")"
      ],
      "metadata": {
        "colab": {
          "base_uri": "https://localhost:8080/"
        },
        "id": "7-IPJcNuOKxI",
        "outputId": "83361dfb-b525-478f-cf12-7c1591d1db17"
      },
      "execution_count": 3,
      "outputs": [
        {
          "output_type": "stream",
          "name": "stdout",
          "text": [
            "Matriz aumentada inicial:\n",
            "[[ 3.000e-03  5.914e+01  5.917e+01]\n",
            " [ 5.291e+00 -6.130e+00  4.678e+01]]\n",
            "\n",
            "Matriz después de eliminación gaussiana con pivoteo:\n",
            "[[ 5.291  -6.13   46.78  ]\n",
            " [ 0.     59.1435 59.1435]]\n",
            "\n",
            "La solución es:\n",
            "x1 = 10.0\n",
            "x2 = 1.0\n",
            "\n",
            "Comparación con la solución exacta:\n",
            "x1 (calculado) = 10.0, x1 (exacto) = 10.0\n",
            "x2 (calculado) = 1.0, x2 (exacto) = 1.0\n"
          ]
        }
      ]
    }
  ]
}