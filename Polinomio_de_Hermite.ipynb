{
  "nbformat": 4,
  "nbformat_minor": 0,
  "metadata": {
    "colab": {
      "provenance": [],
      "authorship_tag": "ABX9TyMvtX6kyl2Sb+KfCVjibej5",
      "include_colab_link": true
    },
    "kernelspec": {
      "name": "python3",
      "display_name": "Python 3"
    },
    "language_info": {
      "name": "python"
    }
  },
  "cells": [
    {
      "cell_type": "markdown",
      "metadata": {
        "id": "view-in-github",
        "colab_type": "text"
      },
      "source": [
        "<a href=\"https://colab.research.google.com/github/Sara-flores/Sara-flores/blob/main/Polinomio_de_Hermite.ipynb\" target=\"_parent\"><img src=\"https://colab.research.google.com/assets/colab-badge.svg\" alt=\"Open In Colab\"/></a>"
      ]
    },
    {
      "cell_type": "code",
      "execution_count": 3,
      "metadata": {
        "id": "8rB0w_bUp3It"
      },
      "outputs": [],
      "source": [
        "\n",
        "import numpy as np\n",
        "from scipy.interpolate import BarycentricInterpolator"
      ]
    },
    {
      "cell_type": "code",
      "source": [
        "\n",
        "# Datos de la tabla 3.15\n",
        "xk = np.array([1.3, 1.6, 1.9])\n",
        "fk = np.array([0.6200860, 0.4554022, 0.2818186])\n",
        "f_deriv = np.array([-0.5220232, -0.5698959, -0.5811571])"
      ],
      "metadata": {
        "id": "oKB_VqKMp6nb"
      },
      "execution_count": 4,
      "outputs": []
    },
    {
      "cell_type": "code",
      "source": [
        "\n",
        "# Función para calcular los coeficientes del polinomio de Hermite\n",
        "def hermite_interpolation(x_values, f_values, f_derivatives, x):\n",
        "    n = len(x_values)\n",
        "    z = np.empty(2 * n)\n",
        "    Q = np.empty((2 * n, 2 * n))\n",
        "\n",
        "    # Step 1: Duplicar los puntos\n",
        "    for i in range(n):\n",
        "        z[2 * i] = x_values[i]\n",
        "        z[2 * i + 1] = x_values[i]\n",
        "\n",
        "    # Step 2: Inicializar los valores de Q\n",
        "    for i in range(n):\n",
        "        Q[2 * i][0] = f_values[i]  # f(x_k)\n",
        "        Q[2 * i + 1][0] = f_values[i]  # f(x_k)\n",
        "\n",
        "        if i > 0:\n",
        "            Q[2 * i][1] = f_derivatives[i - 1]  # f'(x_k)\n",
        "            Q[2 * i + 1][1] = f_derivatives[i]  # f'(x_k)\n",
        "\n",
        "    # Step 3: Calcular el resto de las diferencias divididas\n",
        "    for j in range(2):\n",
        "        for i in range(1, 2 * n):\n",
        "            Q[i][j + 1] = (Q[i][j] - Q[i - 1][j]) / (z[i] - z[i - j - 1])\n",
        "\n",
        "    # Step 4: Calcular el valor interpolado en x\n",
        "    result = 0.0\n",
        "    for i in range(2 * n):\n",
        "        term = Q[i][0]\n",
        "        for j in range(i):\n",
        "            term *= (x - z[j])\n",
        "        result += term\n",
        "\n",
        "    return result"
      ],
      "metadata": {
        "id": "R4DTuJd2qQOp"
      },
      "execution_count": 5,
      "outputs": []
    },
    {
      "cell_type": "code",
      "source": [
        "\n",
        "# Valor de x para el que queremos la interpolación\n",
        "x_target = 1.5\n",
        "approximation = hermite_interpolation(xk, fk, f_deriv, x_target)\n",
        "\n",
        "print(f\"La aproximación de f(1.5) utilizando el polinomio de Hermite es: {approximation}\")"
      ],
      "metadata": {
        "colab": {
          "base_uri": "https://localhost:8080/"
        },
        "id": "YoCc1R-kqcYR",
        "outputId": "18999a86-6adf-4ba2-886a-b4cb539428e6"
      },
      "execution_count": 8,
      "outputs": [
        {
          "output_type": "stream",
          "name": "stdout",
          "text": [
            "La aproximación de f(1.5) utilizando el polinomio de Hermite es: 0.7605653156639999\n"
          ]
        },
        {
          "output_type": "stream",
          "name": "stderr",
          "text": [
            "<ipython-input-5-380cb09741ad>:24: RuntimeWarning: invalid value encountered in scalar divide\n",
            "  Q[i][j + 1] = (Q[i][j] - Q[i - 1][j]) / (z[i] - z[i - j - 1])\n"
          ]
        }
      ]
    }
  ]
}