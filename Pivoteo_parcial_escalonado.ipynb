{
  "nbformat": 4,
  "nbformat_minor": 0,
  "metadata": {
    "colab": {
      "provenance": [],
      "authorship_tag": "ABX9TyP7n3jb+K1TDtfjprDVmhwA",
      "include_colab_link": true
    },
    "kernelspec": {
      "name": "python3",
      "display_name": "Python 3"
    },
    "language_info": {
      "name": "python"
    }
  },
  "cells": [
    {
      "cell_type": "markdown",
      "metadata": {
        "id": "view-in-github",
        "colab_type": "text"
      },
      "source": [
        "<a href=\"https://colab.research.google.com/github/Sara-flores/Sara-flores/blob/main/Pivoteo_parcial_escalonado.ipynb\" target=\"_parent\"><img src=\"https://colab.research.google.com/assets/colab-badge.svg\" alt=\"Open In Colab\"/></a>"
      ]
    },
    {
      "cell_type": "code",
      "execution_count": 2,
      "metadata": {
        "id": "TtGRhxcgHDLb"
      },
      "outputs": [],
      "source": [
        "\n",
        "import numpy as np"
      ]
    },
    {
      "cell_type": "code",
      "source": [
        "# Función para realizar la eliminación gaussiana con pivoteo parcial escalado\n",
        "def eliminacion_gaussiana_pivoteo_parcial_escalado(A, b):\n",
        "    n = len(A)\n",
        "    # Realizamos el pivoteo parcial escalado\n",
        "    for k in range(n):\n",
        "        # Encuentra el máximo elemento en la columna k (considerando el escalado)\n",
        "        escala = np.abs(A[k, :]) / np.max(np.abs(A), axis=1)\n",
        "        fila_pivote = np.argmax(escala[k:])\n",
        "        fila_pivote += k\n",
        "\n",
        "        # Intercambiamos las filas si es necesario\n",
        "        if fila_pivote != k:\n",
        "            A[[k, fila_pivote]] = A[[fila_pivote, k]]\n",
        "            b[k], b[fila_pivote] = b[fila_pivote], b[k]\n",
        "\n",
        "        # Hacemos la eliminación de Gauss\n",
        "        for i in range(k + 1, n):\n",
        "            if A[i, k] != 0:\n",
        "                m = A[i, k] / A[k, k]\n",
        "                A[i, k:] -= m * A[k, k:]\n",
        "                b[i] -= m * b[k]\n",
        "\n",
        "    # Resolución regresiva\n",
        "    x = np.zeros(n)\n",
        "    for i in range(n - 1, -1, -1):\n",
        "        x[i] = round((b[i] - np.dot(A[i, i+1:], x[i+1:])) / A[i, i], 3)\n",
        "\n",
        "    return x"
      ],
      "metadata": {
        "id": "MtDKbDmDHLwq"
      },
      "execution_count": 3,
      "outputs": []
    },
    {
      "cell_type": "code",
      "source": [
        "\n",
        "# Ejemplo de sistema lineal (redondeado a 3 dígitos)\n",
        "A = np.array([\n",
        "    [2.11, -4.21, 0.921],\n",
        "    [4.01, 10.2, -1.12],\n",
        "    [1.09, 0.987, 0.832]\n",
        "])\n",
        "\n",
        "b = np.array([2.01, -3.09, 4.21])\n",
        "\n",
        "# Aplicamos la eliminación gaussiana con pivoteo parcial escalado\n",
        "solucion = eliminacion_gaussiana_pivoteo_parcial_escalado(A, b)\n",
        "\n",
        "# Imprimimos la solución\n",
        "print(f\"Solución del sistema: x1 = {solucion[0]}, x2 = {solucion[1]}, x3 = {solucion[2]}\")"
      ],
      "metadata": {
        "colab": {
          "base_uri": "https://localhost:8080/"
        },
        "id": "OjbysCElHS2d",
        "outputId": "6876976c-ea3c-47b9-86e4-919c56eea735"
      },
      "execution_count": 4,
      "outputs": [
        {
          "output_type": "stream",
          "name": "stdout",
          "text": [
            "Solución del sistema: x1 = -0.428, x2 = 0.427, x3 = 5.114\n"
          ]
        }
      ]
    }
  ]
}