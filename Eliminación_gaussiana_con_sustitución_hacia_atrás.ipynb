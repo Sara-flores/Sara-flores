{
  "nbformat": 4,
  "nbformat_minor": 0,
  "metadata": {
    "colab": {
      "provenance": [],
      "authorship_tag": "ABX9TyPKPnwP7XBY0K2ifMsXu0yX",
      "include_colab_link": true
    },
    "kernelspec": {
      "name": "python3",
      "display_name": "Python 3"
    },
    "language_info": {
      "name": "python"
    }
  },
  "cells": [
    {
      "cell_type": "markdown",
      "metadata": {
        "id": "view-in-github",
        "colab_type": "text"
      },
      "source": [
        "<a href=\"https://colab.research.google.com/github/Sara-flores/Sara-flores/blob/main/Eliminaci%C3%B3n_gaussiana_con_sustituci%C3%B3n_hacia_atr%C3%A1s.ipynb\" target=\"_parent\"><img src=\"https://colab.research.google.com/assets/colab-badge.svg\" alt=\"Open In Colab\"/></a>"
      ]
    },
    {
      "cell_type": "code",
      "execution_count": 1,
      "metadata": {
        "id": "eBFLtnxmLGr3"
      },
      "outputs": [],
      "source": [
        "import numpy as np"
      ]
    },
    {
      "cell_type": "code",
      "source": [
        "# Definir la matriz aumentada del sistema\n",
        "A = np.array([\n",
        "    [1, -1, 2, -1, -8],\n",
        "    [2, -2, 3, -3, -20],\n",
        "    [1, 1, 1, 0, -2],\n",
        "    [1, -1, 4, 3, 4]\n",
        "], dtype=float)\n",
        "\n",
        "# Función para realizar eliminación gaussiana\n",
        "def gauss_elimination(A):\n",
        "    n = len(A)\n",
        "\n",
        "    # Realizamos la eliminación hacia adelante\n",
        "    for i in range(n):\n",
        "        # Asegurarse de que el pivote A[i][i] no sea cero\n",
        "        if A[i][i] == 0:\n",
        "            for j in range(i+1, n):\n",
        "                if A[j][i] != 0:\n",
        "                    # Intercambiamos filas\n",
        "                    A[[i, j]] = A[[j, i]]\n",
        "                    break\n",
        "\n",
        "        # Hacer ceros debajo del pivote\n",
        "        for j in range(i+1, n):\n",
        "            if A[j][i] != 0:\n",
        "                factor = A[j][i] / A[i][i]\n",
        "                A[j, i:] -= factor * A[i, i:]\n",
        "\n",
        "    return A\n",
        "\n",
        "# Función para realizar sustitución hacia atrás\n",
        "def back_substitution(A):\n",
        "    n = len(A)\n",
        "    x = np.zeros(n)\n",
        "\n",
        "    # Comenzamos con la última fila y vamos hacia arriba\n",
        "    for i in range(n-1, -1, -1):\n",
        "        x[i] = A[i, -1] / A[i, i]\n",
        "        for j in range(i-1, -1, -1):\n",
        "            A[j, -1] -= A[j, i] * x[i]\n",
        "\n",
        "    return x"
      ],
      "metadata": {
        "id": "RJdndbl4LJUf"
      },
      "execution_count": 2,
      "outputs": []
    },
    {
      "cell_type": "code",
      "source": [
        "# Mostrar la matriz antes de la eliminación\n",
        "print(\"Matriz aumentada inicial:\")\n",
        "print(A)\n",
        "\n",
        "# Realizar eliminación gaussiana\n",
        "A = gauss_elimination(A)\n",
        "\n",
        "# Mostrar la matriz después de la eliminación gaussiana\n",
        "print(\"\\nMatriz después de eliminación gaussiana:\")\n",
        "print(A)\n",
        "\n",
        "# Realizar sustitución hacia atrás para encontrar la solución\n",
        "solucion = back_substitution(A)\n",
        "\n",
        "# Mostrar la solución\n",
        "print(\"\\nLa solución es:\")\n",
        "for i in range(len(solucion)):\n",
        "    print(f\"x{i+1} = {solucion[i]}\")"
      ],
      "metadata": {
        "colab": {
          "base_uri": "https://localhost:8080/"
        },
        "id": "KQGAop2gLZbG",
        "outputId": "cce09c71-9af6-4566-8f87-052487a7e494"
      },
      "execution_count": 3,
      "outputs": [
        {
          "output_type": "stream",
          "name": "stdout",
          "text": [
            "Matriz aumentada inicial:\n",
            "[[  1.  -1.   2.  -1.  -8.]\n",
            " [  2.  -2.   3.  -3. -20.]\n",
            " [  1.   1.   1.   0.  -2.]\n",
            " [  1.  -1.   4.   3.   4.]]\n",
            "\n",
            "Matriz después de eliminación gaussiana:\n",
            "[[ 1. -1.  2. -1. -8.]\n",
            " [ 0.  2. -1.  1.  6.]\n",
            " [ 0.  0. -1. -1. -4.]\n",
            " [ 0.  0.  0.  2.  4.]]\n",
            "\n",
            "La solución es:\n",
            "x1 = -7.0\n",
            "x2 = 3.0\n",
            "x3 = 2.0\n",
            "x4 = 2.0\n"
          ]
        }
      ]
    }
  ]
}