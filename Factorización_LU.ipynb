{
  "nbformat": 4,
  "nbformat_minor": 0,
  "metadata": {
    "colab": {
      "provenance": [],
      "authorship_tag": "ABX9TyOfwqw3hSXAdpr8Ny3/iGZg",
      "include_colab_link": true
    },
    "kernelspec": {
      "name": "python3",
      "display_name": "Python 3"
    },
    "language_info": {
      "name": "python"
    }
  },
  "cells": [
    {
      "cell_type": "markdown",
      "metadata": {
        "id": "view-in-github",
        "colab_type": "text"
      },
      "source": [
        "<a href=\"https://colab.research.google.com/github/Sara-flores/Sara-flores/blob/main/Factorizaci%C3%B3n_LU.ipynb\" target=\"_parent\"><img src=\"https://colab.research.google.com/assets/colab-badge.svg\" alt=\"Open In Colab\"/></a>"
      ]
    },
    {
      "cell_type": "code",
      "execution_count": 3,
      "metadata": {
        "id": "fGDyhZxCyx4U"
      },
      "outputs": [],
      "source": [
        "import numpy as np"
      ]
    },
    {
      "cell_type": "code",
      "source": [
        "\n",
        "# Matriz A y vector b\n",
        "A = np.array([[1, 1, 0, 3],\n",
        "              [2, 1, -1, 1],\n",
        "              [3, -1, -1, 2],\n",
        "              [-1, 2, 3, -1]], dtype=float)\n",
        "\n",
        "b = np.array([4, 1, -3, 4], dtype=float)\n",
        "\n",
        "# Función para realizar la factorización LU\n",
        "def lu_decomposition(A):\n",
        "    n = A.shape[0]\n",
        "    L = np.zeros_like(A)\n",
        "    U = np.zeros_like(A)\n",
        "\n",
        "    for i in range(n):\n",
        "        # Componente U\n",
        "        for j in range(i, n):\n",
        "            U[i, j] = A[i, j] - np.dot(L[i, :i], U[:i, j])\n",
        "\n",
        "        # Componente L\n",
        "        for j in range(i + 1, n):\n",
        "            L[j, i] = (A[j, i] - np.dot(L[j, :i], U[:i, i])) / U[i, i]\n",
        "\n",
        "        # Diagonal de L es 1\n",
        "        L[i, i] = 1\n",
        "\n",
        "    return L, U\n",
        "\n",
        "# Factorización LU\n",
        "L, U = lu_decomposition(A)\n",
        "\n",
        "# Mostrar L y U\n",
        "print(\"Matriz L:\")\n",
        "print(L)\n",
        "print(\"\\nMatriz U:\")\n",
        "print(U)\n",
        "\n",
        "# Resolución del sistema Ax = b utilizando la factorización LU\n",
        "# 1. Resolver Lc = b usando sustitución hacia adelante\n",
        "def forward_substitution(L, b):\n",
        "    n = L.shape[0]\n",
        "    c = np.zeros_like(b)\n",
        "    for i in range(n):\n",
        "        c[i] = b[i] - np.dot(L[i, :i], c[:i])\n",
        "    return c\n",
        "\n",
        "# 2. Resolver Ux = c usando sustitución hacia atrás\n",
        "def backward_substitution(U, c):\n",
        "    n = U.shape[0]\n",
        "    x = np.zeros_like(c)\n",
        "    for i in range(n-1, -1, -1):\n",
        "        x[i] = (c[i] - np.dot(U[i, i+1:], x[i+1:])) / U[i, i]\n",
        "    return x"
      ],
      "metadata": {
        "colab": {
          "base_uri": "https://localhost:8080/"
        },
        "id": "X7B6_U9tzU8b",
        "outputId": "c67191e4-8a54-4974-bf65-33b8274021b3"
      },
      "execution_count": 4,
      "outputs": [
        {
          "output_type": "stream",
          "name": "stdout",
          "text": [
            "Matriz L:\n",
            "[[ 1.  0.  0.  0.]\n",
            " [ 2.  1.  0.  0.]\n",
            " [ 3.  4.  1.  0.]\n",
            " [-1. -3.  0.  1.]]\n",
            "\n",
            "Matriz U:\n",
            "[[  1.   1.   0.   3.]\n",
            " [  0.  -1.  -1.  -5.]\n",
            " [  0.   0.   3.  13.]\n",
            " [  0.   0.   0. -13.]]\n"
          ]
        }
      ]
    },
    {
      "cell_type": "code",
      "source": [
        "# Paso 1: Resolver Lc = b\n",
        "c = forward_substitution(L, b)\n",
        "\n",
        "# Paso 2: Resolver Ux = c\n",
        "x = backward_substitution(U, c)\n",
        "\n",
        "# Mostrar la solución\n",
        "print(\"\\nSolución x:\")\n",
        "print(x)"
      ],
      "metadata": {
        "colab": {
          "base_uri": "https://localhost:8080/"
        },
        "id": "dxUskJKWzcU9",
        "outputId": "fac9bd79-863d-4abe-c7a7-54107c614d77"
      },
      "execution_count": 5,
      "outputs": [
        {
          "output_type": "stream",
          "name": "stdout",
          "text": [
            "\n",
            "Solución x:\n",
            "[-1.  2.  0.  1.]\n"
          ]
        }
      ]
    }
  ]
}