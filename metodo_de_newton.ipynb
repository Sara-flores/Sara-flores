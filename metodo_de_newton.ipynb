{
  "nbformat": 4,
  "nbformat_minor": 0,
  "metadata": {
    "colab": {
      "provenance": [],
      "authorship_tag": "ABX9TyOVjLB0s2/cNhZ4Pntepi6y",
      "include_colab_link": true
    },
    "kernelspec": {
      "name": "python3",
      "display_name": "Python 3"
    },
    "language_info": {
      "name": "python"
    }
  },
  "cells": [
    {
      "cell_type": "markdown",
      "metadata": {
        "id": "view-in-github",
        "colab_type": "text"
      },
      "source": [
        "<a href=\"https://colab.research.google.com/github/Sara-flores/Sara-flores/blob/main/metodo_de_newton.ipynb\" target=\"_parent\"><img src=\"https://colab.research.google.com/assets/colab-badge.svg\" alt=\"Open In Colab\"/></a>"
      ]
    },
    {
      "cell_type": "code",
      "execution_count": 5,
      "metadata": {
        "id": "_GtyK3D6qsLN"
      },
      "outputs": [],
      "source": [
        "from math import *\n",
        "import numpy as np\n",
        "import matplotlib.pyplot as plt #para crear nuestro grafico\n",
        "import pandas as pd  # Para crear la tabla"
      ]
    },
    {
      "cell_type": "code",
      "source": [
        "def f(x):\n",
        "    return x**3 - x - 1\n"
      ],
      "metadata": {
        "id": "-lna3DdQqyXV"
      },
      "execution_count": 9,
      "outputs": []
    },
    {
      "cell_type": "code",
      "source": [
        "def f_derivada(x):\n",
        "  #aqui tenemos la derivada de nuestra funcion f(x), ya que es escencial para realizar nuestro metodo en este caso es el de newton\n",
        "    return 3*x**2 - 1\n"
      ],
      "metadata": {
        "id": "OhubuazEq1_7"
      },
      "execution_count": 10,
      "outputs": []
    },
    {
      "cell_type": "code",
      "source": [
        "def newton_metodo(p0, tolerancia, max_iteracion):\n",
        "    p = p0\n",
        "    resultado = []  # Lista para almacenar los resultados de cada iteración\n",
        "\n",
        "    for i in range(max_iteracion):\n",
        "        f_p = f(p)\n",
        "        f_prime_p = f_derivada(p)\n",
        "\n",
        "        # aqui se va a calcular el siguiente valor\n",
        "        p_next = p - f_p / f_prime_p\n",
        "\n",
        "        #en este apartado se van a uardar los resultados\n",
        "        resultado.append((i, p, f_p, abs(p_next - p)))\n",
        "\n",
        "        # Verificar la condición de convergencia\n",
        "        if abs(p_next - p) < tolerancia:\n",
        "            resultado.append((i + 1, p_next, f(p_next), 0))  # Guardar resultado final\n",
        "            return p_next, resultado\n",
        "\n",
        "        p = p_next\n",
        "\n",
        "    return None, results  # Si no converge\n",
        "\n",
        "    # Parámetros iniciales son los datos que ya teniamos\n",
        "p0 = 1\n",
        "tolerance = 1e-2\n",
        "max_iterations = 100\n",
        "\n",
        "# Ejecutar el método de Newton\n",
        "solution, results = newton_metodo(p0, tolerance, max_iterations)\n",
        "\n",
        "# Imprimir la tabla de resultados y datos ya tenidos antes\n",
        "print(f\"{'Iteración':<10}{'p':<15}{'f(p)':<15}{'Error':<15}\")\n",
        "print(\"-\" * 55)\n",
        "for i, p, f_p, error in results:\n",
        "    print(f\"{i:<10}{p:<15.6f}{f_p:<15.6f}{error:<15.6f}\")\n",
        "\n",
        "if solution is not None:\n",
        "    print(f\"\\nLa solución aproximada es: {solution:.4f}\")\n",
        "else:\n",
        "    print(\"No se encontró una solución en el número máximo de iteraciones.\")"
      ],
      "metadata": {
        "colab": {
          "base_uri": "https://localhost:8080/"
        },
        "id": "BNVRXKl4rJ4D",
        "outputId": "dc80bbfd-8f49-43a7-f2c4-d7791d4dff2d"
      },
      "execution_count": 11,
      "outputs": [
        {
          "output_type": "stream",
          "name": "stdout",
          "text": [
            "Iteración p              f(p)           Error          \n",
            "-------------------------------------------------------\n",
            "0         1.000000       -1.000000      0.500000       \n",
            "1         1.500000       0.875000       0.152174       \n",
            "2         1.347826       0.100682       0.022626       \n",
            "3         1.325200       0.002058       0.000482       \n",
            "4         1.324718       0.000001       0.000000       \n",
            "\n",
            "La solución aproximada es: 1.3247\n"
          ]
        }
      ]
    },
    {
      "cell_type": "code",
      "source": [],
      "metadata": {
        "id": "AjbU-I-SrQmo"
      },
      "execution_count": null,
      "outputs": []
    }
  ]
}