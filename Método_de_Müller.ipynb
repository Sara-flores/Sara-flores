{
  "nbformat": 4,
  "nbformat_minor": 0,
  "metadata": {
    "colab": {
      "provenance": [],
      "authorship_tag": "ABX9TyPJHpO3Kq4oPPVmhSox5JEc",
      "include_colab_link": true
    },
    "kernelspec": {
      "name": "python3",
      "display_name": "Python 3"
    },
    "language_info": {
      "name": "python"
    }
  },
  "cells": [
    {
      "cell_type": "markdown",
      "metadata": {
        "id": "view-in-github",
        "colab_type": "text"
      },
      "source": [
        "<a href=\"https://colab.research.google.com/github/Sara-flores/Sara-flores/blob/main/M%C3%A9todo_de_M%C3%BCller.ipynb\" target=\"_parent\"><img src=\"https://colab.research.google.com/assets/colab-badge.svg\" alt=\"Open In Colab\"/></a>"
      ]
    },
    {
      "cell_type": "code",
      "execution_count": 7,
      "metadata": {
        "id": "tjqGawdmyRbf"
      },
      "outputs": [],
      "source": [
        "\n",
        "#definimos nuestra función\n",
        "def f(x):\n",
        "    return x**5 + x**4 +x**3 - 5*x**2 + 7*x + 18"
      ]
    },
    {
      "cell_type": "code",
      "source": [
        "\n",
        "\n",
        "#implementamos el método de Müller\n",
        "def muller(x0, x1, x2, tol):\n",
        "    while True:\n",
        "        # Calcula los valores de f(x) para los puntos x0, x1, x2\n",
        "        f0 = f(x0)\n",
        "        f1 = f(x1)\n",
        "        f2 = f(x2)\n",
        "\n",
        "        # Calcula h y d\n",
        "        h1 = x1 - x0\n",
        "        h2 = x2 - x1\n",
        "        d1 = (f1 - f0) / h1\n",
        "        d2 = (f2 - f1) / h2\n",
        "\n",
        "        # Calcula los coeficientes del polinomio cuadrático\n",
        "        a = (d2 - d1) / (h2 + h1)\n",
        "        b = a * h2 + d2\n",
        "        c = f2\n",
        "\n",
        "        # Calcula el discriminante\n",
        "        discriminante = b**2 - 4*a*c\n",
        "\n",
        "        # Escoge la raíz positiva o negativa\n",
        "        if discriminante < 0:\n",
        "            print(\"Discriminante negativo, no se pueden encontrar raíces reales.\")\n",
        "            return None\n",
        "\n",
        "        sqrt_discriminante = discriminante**0.5\n",
        "        if abs(b + sqrt_discriminante) > abs(b - sqrt_discriminante):\n",
        "            x3 = x2 + (-2 * c) / (b + sqrt_discriminante)\n",
        "        else:\n",
        "            x3 = x2 + (-2 * c) / (b - sqrt_discriminante)\n",
        "\n",
        "        # Verifica la convergencia\n",
        "        if abs(x3 - x2) < tol:\n",
        "            return x3\n",
        "\n",
        "        # Actualiza los puntos\n",
        "        x0, x1, x2 = x1, x2, x3\n",
        "\n",
        "# Valores iniciales\n",
        "x0 = -2\n",
        "x1 = -1\n",
        "x2 = 0\n",
        "tol = 10**(-5)\n",
        "\n",
        "raiz = muller(x0, x1, x2, tol)\n",
        "if raiz is not None:\n",
        "    print(f\"Una raíz encontrada: {raiz}\")"
      ],
      "metadata": {
        "colab": {
          "base_uri": "https://localhost:8080/"
        },
        "id": "KYwexET_ySCl",
        "outputId": "d540d51d-2344-41a8-ad68-be6935851cd0"
      },
      "execution_count": 9,
      "outputs": [
        {
          "output_type": "stream",
          "name": "stdout",
          "text": [
            "Una raíz encontrada: -1.2095495423832447\n"
          ]
        }
      ]
    }
  ]
}