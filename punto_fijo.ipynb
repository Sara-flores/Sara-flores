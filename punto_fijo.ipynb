{
  "nbformat": 4,
  "nbformat_minor": 0,
  "metadata": {
    "colab": {
      "provenance": [],
      "authorship_tag": "ABX9TyNAK5HP6aD9kPU5fs1nMsFQ",
      "include_colab_link": true
    },
    "kernelspec": {
      "name": "python3",
      "display_name": "Python 3"
    },
    "language_info": {
      "name": "python"
    }
  },
  "cells": [
    {
      "cell_type": "markdown",
      "metadata": {
        "id": "view-in-github",
        "colab_type": "text"
      },
      "source": [
        "<a href=\"https://colab.research.google.com/github/Sara-flores/Sara-flores/blob/main/punto_fijo.ipynb\" target=\"_parent\"><img src=\"https://colab.research.google.com/assets/colab-badge.svg\" alt=\"Open In Colab\"/></a>"
      ]
    },
    {
      "cell_type": "code",
      "execution_count": 61,
      "metadata": {
        "id": "o1VJ7YYCxUK-"
      },
      "outputs": [],
      "source": [
        "from math import *\n",
        "import numpy as np\n",
        "import matplotlib.pyplot as plt #para crear nuestro grafico\n",
        "import pandas as pd  # Para crear la tabla"
      ]
    },
    {
      "cell_type": "code",
      "source": [
        "def f(x):\n",
        "  return x**3-x-1"
      ],
      "metadata": {
        "id": "mUp0x1QOCfEq"
      },
      "execution_count": 62,
      "outputs": []
    },
    {
      "cell_type": "code",
      "source": [
        "def g(x):\n",
        "    # Reformulación de la ecuación x^3 - x - 1 = 0\n",
        "    return (x + 1)**(1/3)  # g(x) = (x + 1)^(1/3)"
      ],
      "metadata": {
        "id": "oU8YkbtqE_Pz"
      },
      "execution_count": 63,
      "outputs": []
    },
    {
      "cell_type": "code",
      "source": [
        "#nuestros valores fijos\n",
        "x0=1\n",
        "tolerancia=1e-2 #nuestra tolerancia es =10**-2\n",
        "nmax=100\n",
        "niter=0\n",
        "error=1\n",
        "\n",
        "#aqui se generan las listas para ir guardando los datos que vamos air obteniendo\n",
        "niter_list=[]\n",
        "x_list=[]\n",
        "gx_list=[]\n",
        "error_list=[]\n",
        "\n",
        "\n",
        "while error>tolerancia and niter< nmax:\n",
        "  x1=g(x0)\n",
        "  error= abs(x1-x0)\n",
        "\n",
        "  niter_list.append(niter)\n",
        "  x_list.append(x0)\n",
        "  gx_list.append(x1)\n",
        "  error_list.append(error)\n",
        "\n",
        "  x0=x1\n",
        "  niter+=1\n",
        "\n",
        "  #aqui se crea la tabla donde se fuardara todos los datos como el numero e iteraciones, el error, etc\n",
        "df=pd.DataFrame({\n",
        "    'iteracion': niter_list,\n",
        "    'x': x_list,\n",
        "    'g(x)': gx_list,\n",
        "    'error': error_list\n",
        "})\n",
        "\n",
        "print(df)\n",
        "print('\\nraiz apriximada: ', x1)"
      ],
      "metadata": {
        "colab": {
          "base_uri": "https://localhost:8080/"
        },
        "id": "VE6BIDCaE_MG",
        "outputId": "32dd14d5-52c8-4cee-914f-3c7ab51f7f03"
      },
      "execution_count": 65,
      "outputs": [
        {
          "output_type": "stream",
          "name": "stdout",
          "text": [
            "   iteracion         x      g(x)     error\n",
            "0          0  1.000000  1.259921  0.259921\n",
            "1          1  1.259921  1.312294  0.052373\n",
            "2          2  1.312294  1.322354  0.010060\n",
            "3          3  1.322354  1.324269  0.001915\n",
            "\n",
            "raiz apriximada:  1.324268744551578\n"
          ]
        }
      ]
    },
    {
      "cell_type": "code",
      "source": [],
      "metadata": {
        "id": "XBM423BbE_KU"
      },
      "execution_count": null,
      "outputs": []
    }
  ]
}